{
 "cells": [
  {
   "cell_type": "code",
   "execution_count": 1,
   "metadata": {},
   "outputs": [
    {
     "name": "stderr",
     "output_type": "stream",
     "text": [
      "<frozen importlib._bootstrap>:219: RuntimeWarning: numpy.ufunc size changed, may indicate binary incompatibility. Expected 192 from C header, got 216 from PyObject\n"
     ]
    }
   ],
   "source": [
    "import pandas as pd\n",
    "import numpy as np\n",
    "import nltk\n",
    "from nltk import sent_tokenize\n",
    "from nltk import word_tokenize\n",
    "from nltk.corpus import stopwords\n",
    "from sklearn.feature_extraction.text import CountVectorizer, TfidfTransformer\n",
    "from sklearn.model_selection import train_test_split \n",
    "from sklearn.linear_model import LogisticRegression\n",
    "from sklearn.metrics import precision_score, recall_score, f1_score, accuracy_score\n"
   ]
  },
  {
   "cell_type": "code",
   "execution_count": 10,
   "metadata": {},
   "outputs": [],
   "source": [
    "true_df = pd.read_csv('/Users/shauryabhagat/Desktop/GUTS/True.csv', header=0)\n",
    "fake_df = pd.read_csv('/Users/shauryabhagat/Desktop/GUTS/Fake.csv', header=0)"
   ]
  },
  {
   "cell_type": "code",
   "execution_count": 11,
   "metadata": {},
   "outputs": [],
   "source": [
    "true_df['label'] = 0\n",
    "fake_df['label'] = 1"
   ]
  },
  {
   "cell_type": "code",
   "execution_count": 12,
   "metadata": {},
   "outputs": [],
   "source": [
    "combined_df = pd.concat([fake_df,true_df])"
   ]
  },
  {
   "cell_type": "code",
   "execution_count": 13,
   "metadata": {},
   "outputs": [],
   "source": [
    "combined_df = combined_df.sample(frac=1).reset_index(drop=True)"
   ]
  },
  {
   "cell_type": "code",
   "execution_count": 14,
   "metadata": {},
   "outputs": [],
   "source": [
    "combined_df = combined_df.fillna(' ')"
   ]
  },
  {
   "cell_type": "code",
   "execution_count": 15,
   "metadata": {},
   "outputs": [],
   "source": [
    "stoplist = set(stopwords.words('english'))"
   ]
  },
  {
   "cell_type": "code",
   "execution_count": 16,
   "metadata": {},
   "outputs": [],
   "source": [
    "combined_df['text'] = combined_df['text'].apply(word_tokenize)\n",
    "combined_df['text'] = combined_df['text'].apply(lambda x: [each_word for each_word in x if each_word not in stoplist])\n",
    "combined_df['text_joined'] = combined_df['text'].apply(lambda x: \" \".join(x))"
   ]
  },
  {
   "cell_type": "code",
   "execution_count": 64,
   "metadata": {},
   "outputs": [],
   "source": [
    "count_vectorizer = CountVectorizer(ngram_range=(1, 2))\n",
    "tf_idf_transformer = TfidfTransformer(smooth_idf=False)"
   ]
  },
  {
   "cell_type": "code",
   "execution_count": 65,
   "metadata": {},
   "outputs": [],
   "source": [
    "count_vectorizer.fit(combined_df['text_joined'].values)\n",
    "count_vect_train = count_vectorizer.transform(combined_df['text_joined'].values)"
   ]
  },
  {
   "cell_type": "code",
   "execution_count": 66,
   "metadata": {},
   "outputs": [],
   "source": [
    "tf_idf_transformer.fit(count_vect_train)\n",
    "tf_idf_train = tf_idf_transformer.transform(count_vect_train)"
   ]
  },
  {
   "cell_type": "code",
   "execution_count": 22,
   "metadata": {},
   "outputs": [],
   "source": [
    "X_train, X_test, y_train, y_test = train_test_split(tf_idf_train, combined_df['label'], random_state=0)"
   ]
  },
  {
   "cell_type": "code",
   "execution_count": 23,
   "metadata": {},
   "outputs": [],
   "source": [
    "lr = LogisticRegression()"
   ]
  },
  {
   "cell_type": "code",
   "execution_count": 24,
   "metadata": {},
   "outputs": [
    {
     "data": {
      "text/plain": [
       "LogisticRegression()"
      ]
     },
     "execution_count": 24,
     "metadata": {},
     "output_type": "execute_result"
    }
   ],
   "source": [
    "lr.fit(X_train, y_train)"
   ]
  },
  {
   "cell_type": "code",
   "execution_count": 25,
   "metadata": {},
   "outputs": [],
   "source": [
    "pred = lr.predict(X_test)"
   ]
  },
  {
   "cell_type": "code",
   "execution_count": 26,
   "metadata": {},
   "outputs": [
    {
     "name": "stdout",
     "output_type": "stream",
     "text": [
      "Accuracy_Training_Set =  99.40605232679\n",
      "Accuracy_Test_Set =  98.52115812917594\n",
      "Precision =  98.42905405405405\n",
      "Recall =  98.76271186440678\n",
      "F1 score =  98.59560067681896\n"
     ]
    }
   ],
   "source": [
    "print(\"Accuracy_Training_Set = \" , lr.score(X_train, y_train)*100)\n",
    "print(\"Accuracy_Test_Set = \" , lr.score(X_test, y_test)*100)\n",
    "print(\"Precision = \" , precision_score(y_test, pred)*100)\n",
    "print(\"Recall = \" , recall_score(y_test, pred)*100)\n",
    "print(\"F1 score = \" , f1_score(y_test, pred)*100)"
   ]
  },
  {
   "cell_type": "code",
   "execution_count": 55,
   "metadata": {},
   "outputs": [],
   "source": [
    "kg_df = pd.read_csv('/Users/shauryabhagat/Desktop/GUTS/KG_train.csv', header=0)"
   ]
  },
  {
   "cell_type": "code",
   "execution_count": 56,
   "metadata": {},
   "outputs": [],
   "source": [
    "kg_df = kg_df.replace(0,99)  #0 = barely true, which will be removed\n",
    "kg_df = kg_df.replace(5,0)   # because 5 is true"
   ]
  },
  {
   "cell_type": "code",
   "execution_count": 57,
   "metadata": {},
   "outputs": [],
   "source": [
    "indexNames = kg_df[ (kg_df['Labels'] >= 2)] .index # or (kg_df['Labels'] == 3) or (kg_df['Labels'] == 4) or (kg_df['Labels'] == 99) ].index\n",
    "kg_df.drop(indexNames , inplace=True)"
   ]
  },
  {
   "cell_type": "code",
   "execution_count": 58,
   "metadata": {},
   "outputs": [],
   "source": [
    "kg_df = kg_df.fillna(' ')"
   ]
  },
  {
   "cell_type": "code",
   "execution_count": 59,
   "metadata": {},
   "outputs": [],
   "source": [
    "kg_df['Text'] = kg_df['Text'].apply(word_tokenize)\n",
    "kg_df['Text'] = kg_df['Text'].apply(lambda x: [each_word for each_word in x if each_word not in stoplist])\n",
    "kg_df['text_joined'] = kg_df['Text'].apply(lambda x: \" \".join(x))"
   ]
  },
  {
   "cell_type": "code",
   "execution_count": 67,
   "metadata": {},
   "outputs": [],
   "source": [
    "count_vect_kg = count_vectorizer.transform(kg_df['text_joined'].values)\n",
    "tf_idf_kg = tf_idf_transformer.transform(count_vect_kg)"
   ]
  },
  {
   "cell_type": "code",
   "execution_count": 69,
   "metadata": {},
   "outputs": [],
   "source": [
    "kg_pred = lr.predict(tf_idf_kg)"
   ]
  },
  {
   "cell_type": "code",
   "execution_count": 71,
   "metadata": {},
   "outputs": [
    {
     "name": "stdout",
     "output_type": "stream",
     "text": [
      "accuracy =  54.12694088804141\n",
      "Precision =  54.35696273465956\n",
      "Recall =  97.24310776942356\n",
      "F1 score =  69.73400431344358\n"
     ]
    }
   ],
   "source": [
    "print(\"Accuracy = \", accuracy_score(kg_df['Labels'], kg_pred)*100)\n",
    "print(\"Precision = \" , precision_score(kg_df['Labels'], kg_pred)*100)\n",
    "print(\"Recall = \" , recall_score(kg_df['Labels'], kg_pred)*100)\n",
    "print(\"F1 score = \" , f1_score(kg_df['Labels'], kg_pred)*100)"
   ]
  },
  {
   "cell_type": "code",
   "execution_count": null,
   "metadata": {},
   "outputs": [],
   "source": []
  }
 ],
 "metadata": {
  "kernelspec": {
   "display_name": "Python 3",
   "language": "python",
   "name": "python3"
  },
  "language_info": {
   "codemirror_mode": {
    "name": "ipython",
    "version": 3
   },
   "file_extension": ".py",
   "mimetype": "text/x-python",
   "name": "python",
   "nbconvert_exporter": "python",
   "pygments_lexer": "ipython3",
   "version": "3.8.5"
  }
 },
 "nbformat": 4,
 "nbformat_minor": 4
}
